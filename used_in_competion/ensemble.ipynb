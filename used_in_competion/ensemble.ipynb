{
 "cells": [
  {
   "cell_type": "code",
   "execution_count": 9,
   "metadata": {},
   "outputs": [],
   "source": [
    "import pandas as pd\n",
    "\n",
    "res1 = pd.read_csv(\"submission.csv\") #9785   drop out \n",
    "res2 = pd.read_csv(\"nbsvm_10foldave.csv\")  #9774\n",
    "res3 = pd.read_csv(\"rf_char.csv\") # \n",
    "res4 = pd.read_csv(\"xgb_tfidf_10foldave.csv\")  # 9799 \n",
    "res5 = pd.read_csv(\"bigru_conv1d_bestmodel_10foldsave.csv\") #9853   res5 is highly correlated with res11, so should be dropout for now\n",
    "#res6 = pd.read_csv(\"bigru_preprocesing_addhf.csv\")   #9829   drop out\n",
    "res7 = pd.read_csv(\"tuned_lr_10foldave.csv\") # 9802  \n",
    "res8 = pd.read_csv(\"textcnn_bestmodel.csv\") #9832 10foldave \n",
    "res9 = pd.read_csv(\"weighted_ensemble_315.csv\") #9864\n",
    "#res10 = pd.read_csv(\"xgb_stacking_319_v1.csv.csv\") #9871  add meta features \n",
    "res11 = pd.read_csv(\"2bigru_bestmodel_10foldave.csv\") #9857 10fold ave  9848 single \n",
    "res12 = pd.read_csv(\"rank_ave_3_19.csv\") # 9861\n",
    "res13 = pd.read_csv(\"ave_ensemble_on_blends.csv\") # 9867\n",
    "res14 = pd.read_csv(\"glove_nn_bestmodel_10foldave.csv\") #9494\n",
    "res15 = pd.read_csv(\"2layer_textcnn_bestmodel_10foldave.csv\") #9829\n",
    "res16 = pd.read_csv(\"charcnn_bestmodel_10foldave.csv\") #9776\n",
    "res17 = pd.read_csv(\"bigru_attention_bestmodel_10foldave.csv\") #9848\n",
    "\n",
    "res18 = pd.read_csv(\"lgb_stacking_final.csv\") #9870\n",
    "\n",
    "res19 = pd.read_csv(\"bigru_conv_10folds_rankave.csv\") #9849\n",
    "res20 = pd.read_csv(\"2bigru_bestmodel_10folds_rankave.csv\") #9847\n",
    "res21 = pd.read_csv(\"textcnn_prepro_bestmodel_10foldave.csv\") #9830\n",
    "res22 = pd.read_csv(\"2bigru_prepro_10foldsave.csv\") #9855 \n",
    "res23 = pd.read_csv(\"2bigru_prepro_nocu_10foldsave.csv\")\n",
    "res24 = pd.read_csv(\"capsuleNet_prepro_10foldave.csv\")\n",
    "res25 = pd.read_csv(\"bigru_conv_prepro_nocu_10foldsave.csv\")\n",
    "\n",
    "res26 = pd.read_csv(\"xgb_stacking_final.csv\")\n",
    "res27 = pd.read_csv(\"nn_stacking_final.csv\")"
   ]
  },
  {
   "cell_type": "code",
   "execution_count": 23,
   "metadata": {},
   "outputs": [
    {
     "name": "stdout",
     "output_type": "stream",
     "text": [
      "\n",
      " Class: toxic\n",
      " Pearson's correlation score: 0.986220\n",
      " Kendall's correlation score: 0.890753\n",
      " Spearman's correlation score: 0.979298\n",
      " Kolmogorov-Smirnov test:    KS-stat = 0.632270    p-value = 0.000e+00\n",
      "\n",
      "\n",
      " Class: severe_toxic\n",
      " Pearson's correlation score: 0.965728\n",
      " Kendall's correlation score: 0.563758\n",
      " Spearman's correlation score: 0.753868\n",
      " Kolmogorov-Smirnov test:    KS-stat = 0.934939    p-value = 0.000e+00\n",
      "\n",
      "\n",
      " Class: obscene\n",
      " Pearson's correlation score: 0.986046\n",
      " Kendall's correlation score: 0.617625\n",
      " Spearman's correlation score: 0.782660\n",
      " Kolmogorov-Smirnov test:    KS-stat = 0.771970    p-value = 0.000e+00\n",
      "\n",
      "\n",
      " Class: threat\n",
      " Pearson's correlation score: 0.903405\n",
      " Kendall's correlation score: 0.737230\n",
      " Spearman's correlation score: 0.900936\n",
      " Kolmogorov-Smirnov test:    KS-stat = 0.988640    p-value = 0.000e+00\n",
      "\n",
      "\n",
      " Class: insult\n",
      " Pearson's correlation score: 0.986070\n",
      " Kendall's correlation score: 0.864677\n",
      " Spearman's correlation score: 0.971748\n",
      " Kolmogorov-Smirnov test:    KS-stat = 0.766264    p-value = 0.000e+00\n",
      "\n",
      "\n",
      " Class: identity_hate\n",
      " Pearson's correlation score: 0.974050\n",
      " Kendall's correlation score: 0.785993\n",
      " Spearman's correlation score: 0.935586\n",
      " Kolmogorov-Smirnov test:    KS-stat = 0.957719    p-value = 0.000e+00\n",
      "\n"
     ]
    }
   ],
   "source": [
    "corr(res26, res11)"
   ]
  },
  {
   "cell_type": "code",
   "execution_count": 8,
   "metadata": {},
   "outputs": [],
   "source": [
    "import pandas as pd\n",
    "import sys\n",
    "from scipy.stats import ks_2samp\n",
    "\n",
    "first_file = sys.argv[1]\n",
    "second_file = sys.argv[2]\n",
    "\n",
    "def corr(first_df, second_df):\n",
    "    # assuming first column is `class_name_id`\n",
    "    class_names = ['toxic', 'severe_toxic', 'obscene', 'threat', 'insult', 'identity_hate']\n",
    "\n",
    "    for class_name in class_names:\n",
    "        # all correlations\n",
    "        print('\\n Class: %s' % class_name)\n",
    "        print(' Pearson\\'s correlation score: %0.6f' %\n",
    "              first_df[class_name].corr(\n",
    "                  second_df[class_name], method='pearson'))\n",
    "        print(' Kendall\\'s correlation score: %0.6f' %\n",
    "              first_df[class_name].corr(\n",
    "                  second_df[class_name], method='kendall'))\n",
    "        print(' Spearman\\'s correlation score: %0.6f' %\n",
    "              first_df[class_name].corr(\n",
    "                  second_df[class_name], method='spearman'))\n",
    "        ks_stat, p_value = ks_2samp(first_df[class_name].values,\n",
    "                                    second_df[class_name].values)\n",
    "        print(' Kolmogorov-Smirnov test:    KS-stat = %.6f    p-value = %.3e\\n'\n",
    "              % (ks_stat, p_value))"
   ]
  },
  {
   "cell_type": "markdown",
   "metadata": {},
   "source": [
    "methods used : weighted ensemble, ranke average, staking, blend of blends "
   ]
  },
  {
   "cell_type": "code",
   "execution_count": 6,
   "metadata": {},
   "outputs": [],
   "source": [
    "#blending of blends \n",
    "\n",
    "for c in res1.columns[1:]:\n",
    "    res2[c] =  res18[c]*0.35 + res26[c]*0.3 + res27[c]*0.35\n",
    "res2.to_csv(\"final_blending.csv\",index=False)"
   ]
  },
  {
   "cell_type": "code",
   "execution_count": 10,
   "metadata": {},
   "outputs": [],
   "source": [
    "# weighted ensemble \n",
    "res = [res2, res4, res7 ,res8, res11]\n",
    "for c in res1.columns[1:]:\n",
    "    res2[c] =  res2[c]*0.15 + res4[c]*0.15 + res7[c]*0.1 + res8[c]*0.2 + res11[c]*0.4\n",
    "res2.to_csv(\"weighted_ensemble_315.csv\",index=False)"
   ]
  },
  {
   "cell_type": "code",
   "execution_count": 11,
   "metadata": {},
   "outputs": [],
   "source": [
    "res = [res9, res10, res12]\n",
    "for c in res1.columns[1:]:\n",
    "    res2[c] =  res9[c]*0.15 + res10[c]*0.4 + res12[c]*0.35\n",
    "res2.to_csv(\"ave_ensemble_on_blends.csv\", index=False)"
   ]
  },
  {
   "cell_type": "markdown",
   "metadata": {},
   "source": [
    "**rank average**"
   ]
  },
  {
   "cell_type": "code",
   "execution_count": 10,
   "metadata": {},
   "outputs": [],
   "source": [
    "import numpy as np\n",
    "from scipy.stats import rankdata\n",
    "\n",
    "lables = res1.columns[1:]\n",
    "res = [res2,res4, res5,res7, res8,res11, res15,res16,res17]\n",
    "res = [r[lables].values for r in res]\n",
    "pred = np.zeros_like(res[0])\n",
    "\n",
    "for r in res:\n",
    "    for i in range(6):\n",
    "        pred[:,i] =  np.add(pred[:,i], rankdata(r[:,i])/float(pred.shape[0]))\n",
    "pred /= float(len(res))\n",
    "#pred\n",
    "res2[lables] = pred\n",
    "res2.to_csv(\"rank_ave_3_19.csv\", index=False)"
   ]
  },
  {
   "cell_type": "code",
   "execution_count": 19,
   "metadata": {},
   "outputs": [],
   "source": [
    "for c in res1.columns[1:]:\n",
    "    res2[c] =  res7[c]*0.05 + res8[c]*0.3 + res9[c]*0.4 + res5[c]*0.2 + res2[c]* 0.05\n",
    "res2.to_csv(\"ensemble_3_13_v2.csv\",index=False)"
   ]
  },
  {
   "cell_type": "code",
   "execution_count": 15,
   "metadata": {},
   "outputs": [],
   "source": [
    "for c in res1.columns[1:]:\n",
    "    res2[c] =  res7[c]*0.15 + res8[c]*0.3 + res5[c]*0.4+ res2[c]*0.15\n",
    "res2.to_csv(\"ensemble_3_13.csv\",index=False)"
   ]
  },
  {
   "cell_type": "code",
   "execution_count": 12,
   "metadata": {},
   "outputs": [],
   "source": [
    "#best model for now \n",
    "\n",
    "for c in res1.columns[1:]:\n",
    "    res2[c] =  res2[c]*0.15 + res1[c]*0.15 + res3[c]*0.1+ res4[c]*0 + res5[c]*0.4 + res6[c]*0.2\n",
    "res2.to_csv(\"ensemble_3_12_v1.csv\",index=False)"
   ]
  },
  {
   "cell_type": "code",
   "execution_count": 21,
   "metadata": {},
   "outputs": [],
   "source": [
    "for c in res1.columns[1:]:\n",
    "    res2[c] =  res2[c]*0.15 + res7[c]*0.15 + res3[c]*0.1+ res4[c]*0 + res5[c]*0.4 + res8[c]*0.2\n",
    "res2.to_csv(\"ensemble_3_12_v3.csv\",index=False)"
   ]
  },
  {
   "cell_type": "code",
   "execution_count": 17,
   "metadata": {},
   "outputs": [
    {
     "data": {
      "text/plain": [
       "array([[1.        , 0.96473775, 0.53917881, 0.92790516],\n",
       "       [0.96473775, 1.        , 0.542977  , 0.9135585 ],\n",
       "       [0.53917881, 0.542977  , 1.        , 0.7703269 ],\n",
       "       [0.92790516, 0.9135585 , 0.7703269 , 1.        ]])"
      ]
     },
     "execution_count": 17,
     "metadata": {},
     "output_type": "execute_result"
    }
   ],
   "source": [
    "import numpy as np\n",
    "res = [res9, res10,res12,res13 ]\n",
    "corr = np.zeros((len(res),len(res)))\n",
    "for i,r in enumerate(res):\n",
    "    for j,p in enumerate(res):\n",
    "        corr[i][j] = np.mean(r.corrwith(p))\n",
    "corr"
   ]
  },
  {
   "cell_type": "code",
   "execution_count": 4,
   "metadata": {},
   "outputs": [
    {
     "name": "stdout",
     "output_type": "stream",
     "text": [
      "\n",
      " Class: toxic\n",
      " Pearson's correlation score: 0.968033\n",
      " Kendall's correlation score: 0.879963\n",
      " Spearman's correlation score: 0.976733\n",
      " Kolmogorov-Smirnov test:    KS-stat = 0.458123    p-value = 0.000e+00\n",
      "\n",
      "\n",
      " Class: severe_toxic\n",
      " Pearson's correlation score: 0.922573\n",
      " Kendall's correlation score: 0.773755\n",
      " Spearman's correlation score: 0.924017\n",
      " Kolmogorov-Smirnov test:    KS-stat = 0.875408    p-value = 0.000e+00\n",
      "\n",
      "\n",
      " Class: obscene\n",
      " Pearson's correlation score: 0.988933\n",
      " Kendall's correlation score: 0.864823\n",
      " Spearman's correlation score: 0.970545\n",
      " Kolmogorov-Smirnov test:    KS-stat = 0.539004    p-value = 0.000e+00\n",
      "\n",
      "\n",
      " Class: threat\n",
      " Pearson's correlation score: 0.783640\n",
      " Kendall's correlation score: 0.303434\n",
      " Spearman's correlation score: 0.421552\n",
      " Kolmogorov-Smirnov test:    KS-stat = 0.705688    p-value = 0.000e+00\n",
      "\n",
      "\n",
      " Class: insult\n",
      " Pearson's correlation score: 0.977897\n",
      " Kendall's correlation score: 0.885231\n",
      " Spearman's correlation score: 0.979941\n",
      " Kolmogorov-Smirnov test:    KS-stat = 0.316360    p-value = 0.000e+00\n",
      "\n",
      "\n",
      " Class: identity_hate\n",
      " Pearson's correlation score: 0.818684\n",
      " Kendall's correlation score: 0.810741\n",
      " Spearman's correlation score: 0.952851\n",
      " Kolmogorov-Smirnov test:    KS-stat = 0.694014    p-value = 0.000e+00\n",
      "\n"
     ]
    }
   ],
   "source": [
    "import pandas as pd\n",
    "import sys\n",
    "from scipy.stats import ks_2samp\n",
    "\n",
    "first_file = sys.argv[1]\n",
    "second_file = sys.argv[2]\n",
    "\n",
    "def corr(first_df, second_df):\n",
    "    # assuming first column is `class_name_id`\n",
    "    class_names = ['toxic', 'severe_toxic', 'obscene', 'threat', 'insult', 'identity_hate']\n",
    "\n",
    "    for class_name in class_names:\n",
    "        # all correlations\n",
    "        print('\\n Class: %s' % class_name)\n",
    "        print(' Pearson\\'s correlation score: %0.6f' %\n",
    "              first_df[class_name].corr(\n",
    "                  second_df[class_name], method='pearson'))\n",
    "        print(' Kendall\\'s correlation score: %0.6f' %\n",
    "              first_df[class_name].corr(\n",
    "                  second_df[class_name], method='kendall'))\n",
    "        print(' Spearman\\'s correlation score: %0.6f' %\n",
    "              first_df[class_name].corr(\n",
    "                  second_df[class_name], method='spearman'))\n",
    "        ks_stat, p_value = ks_2samp(first_df[class_name].values,\n",
    "                                    second_df[class_name].values)\n",
    "        print(' Kolmogorov-Smirnov test:    KS-stat = %.6f    p-value = %.3e\\n'\n",
    "              % (ks_stat, p_value))\n",
    "\n",
    "corr(res27, res18)"
   ]
  },
  {
   "cell_type": "code",
   "execution_count": 9,
   "metadata": {},
   "outputs": [],
   "source": [
    "for c in res1.columns[1:]:\n",
    "    res2[c] =  res2[c]*0.15 + res1[c]*0.1 + res3[c]*0.5+ res4[c]*0.1 + res5[c]*0.2 + res6[c]*0.3\n",
    "res2.to_csv(\"ensemble_3_6_v2.csv\",index=False)"
   ]
  },
  {
   "cell_type": "code",
   "execution_count": 6,
   "metadata": {},
   "outputs": [],
   "source": [
    "for c in res1.columns[1:]:\n",
    "    res2[c] = res2[c]*0.1 + res1[c]*0.1 + res3[c]*0.1 + res5[c]*0.1 + res6[c]*0.3 + res7[c]*0.3\n",
    "res2.to_csv(\"ensemble_3_6.csv\",index=False)"
   ]
  },
  {
   "cell_type": "code",
   "execution_count": 12,
   "metadata": {},
   "outputs": [],
   "source": [
    "for c in res1.columns[1:]:\n",
    "    res2[c] = res2[c]*0.1 + res1[c]*0.1 + res3[c]*0.1 + res5[c]*0.1 + res6[c]*0.3 + res7[c]*0.3\n",
    "res2.to_csv(\"ensemble_3_7.csv\",index=False)"
   ]
  },
  {
   "cell_type": "code",
   "execution_count": 24,
   "metadata": {},
   "outputs": [],
   "source": [
    "for c in res1.columns[1:]:\n",
    "    res2[c] = res2[c]*0.1 + res1[c]*0.1 + res3[c]*0.05 + res4[c]*0.05 + res6[c]*0.2 + res7[c]*0.2 + res8[c]*0.3\n",
    "res2.to_csv(\"ensemble_3_8.csv\",index=False)"
   ]
  },
  {
   "cell_type": "code",
   "execution_count": 27,
   "metadata": {},
   "outputs": [],
   "source": [
    "for c in res1.columns[1:]:\n",
    "    res2[c] = res6[c]*0.15 + res7[c]*0.35 + res8[c]*0.5\n",
    "res2.to_csv(\"ensemble_3_8.csv\",index=False)"
   ]
  },
  {
   "cell_type": "code",
   "execution_count": 30,
   "metadata": {},
   "outputs": [],
   "source": [
    "for c in res1.columns[1:]:\n",
    "    res2[c] = res6[c] * 0.1 +res8[c]*0.4 + res9[c]*0.5\n",
    "res2.to_csv(\"ensemble_3_11.csv\",index=False)"
   ]
  },
  {
   "cell_type": "code",
   "execution_count": null,
   "metadata": {},
   "outputs": [],
   "source": []
  }
 ],
 "metadata": {
  "kernelspec": {
   "display_name": "Python 3",
   "language": "python",
   "name": "python3"
  },
  "language_info": {
   "codemirror_mode": {
    "name": "ipython",
    "version": 3
   },
   "file_extension": ".py",
   "mimetype": "text/x-python",
   "name": "python",
   "nbconvert_exporter": "python",
   "pygments_lexer": "ipython3",
   "version": "3.5.2"
  }
 },
 "nbformat": 4,
 "nbformat_minor": 2
}
